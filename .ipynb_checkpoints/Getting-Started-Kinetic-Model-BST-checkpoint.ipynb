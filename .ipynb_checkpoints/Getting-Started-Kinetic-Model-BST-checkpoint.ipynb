{
 "cells": [
  {
   "cell_type": "markdown",
   "id": "f06ddf39-3ee5-4b43-8614-ae0f106768d5",
   "metadata": {},
   "source": [
    "## Biochemical Systems Theory and S-System Models"
   ]
  },
  {
   "cell_type": "markdown",
   "id": "5530f3bf-58f0-4104-9edc-1e39a601e036",
   "metadata": {},
   "source": [
    "### Introduction"
   ]
  },
  {
   "cell_type": "markdown",
   "id": "f19f6e9a-009f-446b-bb32-99da8bd4f3b1",
   "metadata": {},
   "source": [
    "Biochemical Systems Theory (BST) is a mathematical modeling framework for biochemical systems based on ordinary differential equations (ODEs), where biochemical processes are modeled using power-law expansions in the system’s variables. BST has been developed since the 1960s by [Michael Savageau](https://en.wikipedia.org/wiki/Michael_Antonio_Savageau), [Eberhard Voit](https://en.wikipedia.org/wiki/Eberhard_Voit), and others for the analysis of biochemical processes.\n",
    "\n",
    "One of the main tools of BST is the modeling of the concentration of metabolites in a metabolic network as a dynamic S-system. For example, suppose we want to model a metabolic network that consists of a species set $\\mathcal{M}$ and a reaction set $\\mathcal{R}$. Then, we can write a concentation balance equation around each member of the species set $\\mathcal{M}$ of the form: \n",
    "\n",
    "$$\\frac{dX_{i}}{dt} = \\sum_{r\\in\\mathcal{R}}\\sigma_{i,r}\\cdot\\theta_{r}\\prod_{m\\in\\mathcal{M}}X_{m}^{\\gamma_{r,m}}-\\mu{X}_{i}\\qquad\\forall{i}\\in\\mathcal{M}$$\n",
    "\n",
    "where $\\sigma_{i,r}$ denotes the stoichiometric coefficient species $i$ in reaction $r$, $X_{m}$ denotes the concentration of species $m$, and $\\gamma_{r,m}$ denotes the reaction order of species $m$ in reaction $r$, and $\\mu$ denotes the specific growth rate; the last term is dilution due to growth (accounts for dilution when concentrations are written in cell mass specific units). The dilution due to growth term is not present in a cell-free system (unless there is a significant volume change)."
   ]
  },
  {
   "cell_type": "markdown",
   "id": "2accd6aa-cd02-435e-b57d-2735c9fb6d6a",
   "metadata": {},
   "source": [
    "### Case study"
   ]
  },
  {
   "cell_type": "markdown",
   "id": "435cdc33-e9c0-4dfc-bb3b-5465c831f98a",
   "metadata": {},
   "source": [
    "<img src=\"./figs/Fig-Linear-Pathway-BST-Example.png\" style=\"margin:auto; width:50%\">"
   ]
  },
  {
   "cell_type": "markdown",
   "id": "630b96ef-b77b-4c2d-8386-509142afcb52",
   "metadata": {},
   "source": [
    "Let's build a small S-system model of a linear pathway with end-product feedback inhibition to understand better how these models work (and generally how kinetic simulations work). \n",
    "\n",
    "Consider the example pathway above operating in a cell-free system. A three-step pathway catalyzed by enzymes $E_{1}$, $E_{2}$ and $E_{3}$ converts metabolite $X_{1}$ to $X_{4}$. Metabolite $X_{1}$ is produced by some other process at a constant rate, and $X_{4}$ is consumed at some constant rate. Finally, metabolite $X_{4}$ inhibits the activity of enzyme $E_{1}$."
   ]
  },
  {
   "cell_type": "markdown",
   "id": "0d9131b9-e2b4-4001-b8fe-3eb9079018b5",
   "metadata": {},
   "source": [
    "#### Setup case study environment"
   ]
  },
  {
   "cell_type": "code",
   "execution_count": 1,
   "id": "9eeb6397-bb62-4e13-a78f-7ff42388ad0e",
   "metadata": {},
   "outputs": [
    {
     "name": "stderr",
     "output_type": "stream",
     "text": [
      "\u001b[32m\u001b[1m  Activating\u001b[22m\u001b[39m project at `~/Desktop/julia_work/BST-Model-Case-Study`\n",
      "\u001b[32m\u001b[1m  No Changes\u001b[22m\u001b[39m to `~/Desktop/julia_work/BST-Model-Case-Study/Project.toml`\n",
      "\u001b[32m\u001b[1m  No Changes\u001b[22m\u001b[39m to `~/Desktop/julia_work/BST-Model-Case-Study/Manifest.toml`\n"
     ]
    }
   ],
   "source": [
    "import Pkg; Pkg.activate(\".\"); Pkg.resolve(); Pkg.instantiate();"
   ]
  },
  {
   "cell_type": "code",
   "execution_count": 2,
   "id": "3859b47d-e99f-4dc7-bbd9-8d9238bebd5f",
   "metadata": {},
   "outputs": [],
   "source": [
    "using DifferentialEquations\n",
    "using Plots"
   ]
  },
  {
   "cell_type": "code",
   "execution_count": 3,
   "id": "be1edd96-1568-4ac7-9f58-8540f211508f",
   "metadata": {},
   "outputs": [],
   "source": [
    "include(\"Example-Code-Library.jl\");"
   ]
  },
  {
   "cell_type": "markdown",
   "id": "b7514e2b-3db5-40eb-ab74-351609cf8220",
   "metadata": {},
   "source": [
    "#### a) Build the model object from the model file\n",
    "The [BST model file](./models/Feedback.bst) holds information to build the model equations; however, it does not contain any information about parameter values. We build the model file using the `build` method:\n",
    "\n",
    "* The function `build(path::String) --> Dict{String,Any}` takes a string holding the `path` to the model file and returns a model `dictionary` holding the components of the model. "
   ]
  },
  {
   "cell_type": "code",
   "execution_count": 4,
   "id": "1ef0fecb-5bf9-4bbe-aa0d-e11766cb851b",
   "metadata": {},
   "outputs": [],
   "source": [
    "model_dictionary = build(joinpath(_PATH_TO_MODELS, \"Feedback.bst\"));"
   ]
  },
  {
   "cell_type": "code",
   "execution_count": 5,
   "id": "6161b3f7-5a4e-4e23-9754-d0307015a4fc",
   "metadata": {},
   "outputs": [
    {
     "data": {
      "text/plain": [
       "Dict{String, Any} with 9 entries:\n",
       "  \"S\"                        => [-1.0 0.0 0.0; 1.0 -1.0 0.0; 0.0 1.0 -1.0; 0.0 …\n",
       "  \"list_of_static_fators\"    => [\"E1\", \"E2\", \"E3\"]\n",
       "  \"list_of_dynamic_species\"  => [\"X1\", \"X2\", \"X3\", \"X4\"]\n",
       "  \"number_of_dynamic_states\" => 4\n",
       "  \"static_factors_array\"     => [0.0, 0.0, 0.0]\n",
       "  \"number_of_static_states\"  => 3\n",
       "  \"total_species_list\"       => [\"X1\", \"X2\", \"X3\", \"X4\", \"E1\", \"E2\", \"E3\"]\n",
       "  \"G\"                        => [1.0 0.0 0.0; 0.0 1.0 0.0; … ; 0.0 1.0 0.0; 0.0…\n",
       "  \"α\"                        => [1.0, 1.0, 1.0]"
      ]
     },
     "execution_count": 5,
     "metadata": {},
     "output_type": "execute_result"
    }
   ],
   "source": [
    "model_dictionary"
   ]
  },
  {
   "cell_type": "code",
   "execution_count": 6,
   "id": "1814b69c-0626-496b-a0c3-4d6054a4e9ab",
   "metadata": {},
   "outputs": [
    {
     "data": {
      "text/plain": [
       "4-element Vector{String}:\n",
       " \"X1\"\n",
       " \"X2\"\n",
       " \"X3\"\n",
       " \"X4\""
      ]
     },
     "execution_count": 6,
     "metadata": {},
     "output_type": "execute_result"
    }
   ],
   "source": [
    "model_dictionary[\"list_of_dynamic_species\"]"
   ]
  },
  {
   "cell_type": "code",
   "execution_count": 7,
   "id": "d708f5b1-7dee-4ecf-b704-f08f4cfcb7a0",
   "metadata": {},
   "outputs": [
    {
     "data": {
      "text/plain": [
       "7×3 Matrix{Float64}:\n",
       " 1.0  0.0  0.0\n",
       " 0.0  1.0  0.0\n",
       " 0.0  0.0  1.0\n",
       " 1.0  0.0  0.0\n",
       " 1.0  0.0  0.0\n",
       " 0.0  1.0  0.0\n",
       " 0.0  0.0  1.0"
      ]
     },
     "execution_count": 7,
     "metadata": {},
     "output_type": "execute_result"
    }
   ],
   "source": [
    "G = model_dictionary[\"G\"]"
   ]
  },
  {
   "cell_type": "code",
   "execution_count": 8,
   "id": "5efd299e-7d9a-432d-86d1-0b4d272aaa3d",
   "metadata": {},
   "outputs": [],
   "source": [
    "G[4,1] = -10.0;"
   ]
  },
  {
   "cell_type": "code",
   "execution_count": 32,
   "id": "170bcd3f-8be1-4f6c-a76f-5aa8f5b6e5a8",
   "metadata": {},
   "outputs": [
    {
     "data": {
      "text/plain": [
       "7×3 Matrix{Float64}:\n",
       "   1.0  0.0  0.0\n",
       "   0.0  1.0  0.0\n",
       "   0.0  0.0  1.0\n",
       " -10.0  0.0  0.0\n",
       "   1.0  0.0  0.0\n",
       "   0.0  1.0  0.0\n",
       "   0.0  0.0  1.0"
      ]
     },
     "execution_count": 32,
     "metadata": {},
     "output_type": "execute_result"
    }
   ],
   "source": []
  },
  {
   "cell_type": "code",
   "execution_count": 29,
   "id": "9041e01c-6c65-4c43-988e-0969873e8e70",
   "metadata": {},
   "outputs": [],
   "source": [
    "icv = [10.0, 0.1, 0.1, 0.1];\n",
    "model_dictionary[\"initial_condition_vector\"] = icv;"
   ]
  },
  {
   "cell_type": "code",
   "execution_count": 10,
   "id": "8713ccd0-d94d-44bb-b45a-b26d685501d4",
   "metadata": {},
   "outputs": [
    {
     "data": {
      "text/plain": [
       "7×3 Matrix{Float64}:\n",
       "   1.0  0.0  0.0\n",
       "   0.0  1.0  0.0\n",
       "   0.0  0.0  1.0\n",
       " -10.0  0.0  0.0\n",
       "   1.0  0.0  0.0\n",
       "   0.0  1.0  0.0\n",
       "   0.0  0.0  1.0"
      ]
     },
     "execution_count": 10,
     "metadata": {},
     "output_type": "execute_result"
    }
   ],
   "source": [
    "model_dictionary[\"G\"]"
   ]
  },
  {
   "cell_type": "code",
   "execution_count": 11,
   "id": "54736c51-ed8b-4e6f-9906-139292b7d2d6",
   "metadata": {},
   "outputs": [
    {
     "data": {
      "text/plain": [
       "7-element Vector{String}:\n",
       " \"X1\"\n",
       " \"X2\"\n",
       " \"X3\"\n",
       " \"X4\"\n",
       " \"E1\"\n",
       " \"E2\"\n",
       " \"E3\""
      ]
     },
     "execution_count": 11,
     "metadata": {},
     "output_type": "execute_result"
    }
   ],
   "source": [
    "model_dictionary[\"total_species_list\"]"
   ]
  },
  {
   "cell_type": "code",
   "execution_count": 12,
   "id": "be07dab1-8ddb-4ef6-bd24-9ab6cc2e84bd",
   "metadata": {},
   "outputs": [
    {
     "data": {
      "text/plain": [
       "4×3 Matrix{Float64}:\n",
       " -1.0   0.0   0.0\n",
       "  1.0  -1.0   0.0\n",
       "  0.0   1.0  -1.0\n",
       "  0.0   0.0   1.0"
      ]
     },
     "execution_count": 12,
     "metadata": {},
     "output_type": "execute_result"
    }
   ],
   "source": [
    "model_dictionary[\"S\"]"
   ]
  },
  {
   "cell_type": "code",
   "execution_count": 33,
   "id": "af4fb9ed-34ed-438a-8be3-4926279dde6e",
   "metadata": {},
   "outputs": [],
   "source": [
    "model_dictionary[\"α\"] = [0.01, 0.01, 0.01];"
   ]
  },
  {
   "cell_type": "code",
   "execution_count": 30,
   "id": "f5a691a0-45c0-4f6c-bf23-8eb9bfcc99b4",
   "metadata": {},
   "outputs": [],
   "source": [
    "model_dictionary[\"static_factors_array\"] = [0.000001, 0.1, 0.000001];"
   ]
  },
  {
   "cell_type": "markdown",
   "id": "a09a03a4-8ac6-4990-b560-e3a4c1121e86",
   "metadata": {},
   "source": [
    "#### b) Set test values for the model parameters in the $G$-matrix and $\\alpha$-vector"
   ]
  },
  {
   "cell_type": "code",
   "execution_count": 37,
   "id": "d74da897-a14d-4b4f-935a-b2098ce6e9e8",
   "metadata": {},
   "outputs": [],
   "source": [
    "(T, X, Z) = evaluate(model_dictionary; tspan=(0.0,1.0), Δt = 0.01);"
   ]
  },
  {
   "cell_type": "code",
   "execution_count": 41,
   "id": "2c4258fb-78d7-4946-a09b-95cc6be6d2b7",
   "metadata": {},
   "outputs": [
    {
     "data": {
      "image/svg+xml": [
       "<?xml version=\"1.0\" encoding=\"utf-8\"?>\n",
       "<svg xmlns=\"http://www.w3.org/2000/svg\" xmlns:xlink=\"http://www.w3.org/1999/xlink\" width=\"600\" height=\"400\" viewBox=\"0 0 2400 1600\">\n",
       "<defs>\n",
       "  <clipPath id=\"clip000\">\n",
       "    <rect x=\"0\" y=\"0\" width=\"2400\" height=\"1600\"/>\n",
       "  </clipPath>\n",
       "</defs>\n",
       "<path clip-path=\"url(#clip000)\" d=\"\n",
       "M0 1600 L2400 1600 L2400 0 L0 0  Z\n",
       "  \" fill=\"#ffffff\" fill-rule=\"evenodd\" fill-opacity=\"1\"/>\n",
       "<defs>\n",
       "  <clipPath id=\"clip001\">\n",
       "    <rect x=\"480\" y=\"0\" width=\"1681\" height=\"1600\"/>\n",
       "  </clipPath>\n",
       "</defs>\n",
       "<path clip-path=\"url(#clip000)\" d=\"\n",
       "M303.219 1486.45 L2352.76 1486.45 L2352.76 47.2441 L303.219 47.2441  Z\n",
       "  \" fill=\"#ffffff\" fill-rule=\"evenodd\" fill-opacity=\"1\"/>\n",
       "<defs>\n",
       "  <clipPath id=\"clip002\">\n",
       "    <rect x=\"303\" y=\"47\" width=\"2051\" height=\"1440\"/>\n",
       "  </clipPath>\n",
       "</defs>\n",
       "<polyline clip-path=\"url(#clip002)\" style=\"stroke:#000000; stroke-linecap:round; stroke-linejoin:round; stroke-width:2; stroke-opacity:0.1; fill:none\" points=\"\n",
       "  361.225,1486.45 361.225,47.2441 \n",
       "  \"/>\n",
       "<polyline clip-path=\"url(#clip002)\" style=\"stroke:#000000; stroke-linecap:round; stroke-linejoin:round; stroke-width:2; stroke-opacity:0.1; fill:none\" points=\"\n",
       "  844.606,1486.45 844.606,47.2441 \n",
       "  \"/>\n",
       "<polyline clip-path=\"url(#clip002)\" style=\"stroke:#000000; stroke-linecap:round; stroke-linejoin:round; stroke-width:2; stroke-opacity:0.1; fill:none\" points=\"\n",
       "  1327.99,1486.45 1327.99,47.2441 \n",
       "  \"/>\n",
       "<polyline clip-path=\"url(#clip002)\" style=\"stroke:#000000; stroke-linecap:round; stroke-linejoin:round; stroke-width:2; stroke-opacity:0.1; fill:none\" points=\"\n",
       "  1811.37,1486.45 1811.37,47.2441 \n",
       "  \"/>\n",
       "<polyline clip-path=\"url(#clip002)\" style=\"stroke:#000000; stroke-linecap:round; stroke-linejoin:round; stroke-width:2; stroke-opacity:0.1; fill:none\" points=\"\n",
       "  2294.75,1486.45 2294.75,47.2441 \n",
       "  \"/>\n",
       "<polyline clip-path=\"url(#clip000)\" style=\"stroke:#000000; stroke-linecap:round; stroke-linejoin:round; stroke-width:4; stroke-opacity:1; fill:none\" points=\"\n",
       "  303.219,1486.45 2352.76,1486.45 \n",
       "  \"/>\n",
       "<polyline clip-path=\"url(#clip000)\" style=\"stroke:#000000; stroke-linecap:round; stroke-linejoin:round; stroke-width:4; stroke-opacity:1; fill:none\" points=\"\n",
       "  361.225,1486.45 361.225,1467.55 \n",
       "  \"/>\n",
       "<polyline clip-path=\"url(#clip000)\" style=\"stroke:#000000; stroke-linecap:round; stroke-linejoin:round; stroke-width:4; stroke-opacity:1; fill:none\" points=\"\n",
       "  844.606,1486.45 844.606,1467.55 \n",
       "  \"/>\n",
       "<polyline clip-path=\"url(#clip000)\" style=\"stroke:#000000; stroke-linecap:round; stroke-linejoin:round; stroke-width:4; stroke-opacity:1; fill:none\" points=\"\n",
       "  1327.99,1486.45 1327.99,1467.55 \n",
       "  \"/>\n",
       "<polyline clip-path=\"url(#clip000)\" style=\"stroke:#000000; stroke-linecap:round; stroke-linejoin:round; stroke-width:4; stroke-opacity:1; fill:none\" points=\"\n",
       "  1811.37,1486.45 1811.37,1467.55 \n",
       "  \"/>\n",
       "<polyline clip-path=\"url(#clip000)\" style=\"stroke:#000000; stroke-linecap:round; stroke-linejoin:round; stroke-width:4; stroke-opacity:1; fill:none\" points=\"\n",
       "  2294.75,1486.45 2294.75,1467.55 \n",
       "  \"/>\n",
       "<path clip-path=\"url(#clip000)\" d=\"M323.528 1517.37 Q319.917 1517.37 318.089 1520.93 Q316.283 1524.47 316.283 1531.6 Q316.283 1538.71 318.089 1542.27 Q319.917 1545.82 323.528 1545.82 Q327.163 1545.82 328.968 1542.27 Q330.797 1538.71 330.797 1531.6 Q330.797 1524.47 328.968 1520.93 Q327.163 1517.37 323.528 1517.37 M323.528 1513.66 Q329.339 1513.66 332.394 1518.27 Q335.473 1522.85 335.473 1531.6 Q335.473 1540.33 332.394 1544.94 Q329.339 1549.52 323.528 1549.52 Q317.718 1549.52 314.64 1544.94 Q311.584 1540.33 311.584 1531.6 Q311.584 1522.85 314.64 1518.27 Q317.718 1513.66 323.528 1513.66 Z\" fill=\"#000000\" fill-rule=\"evenodd\" fill-opacity=\"1\" /><path clip-path=\"url(#clip000)\" d=\"M343.69 1542.97 L348.575 1542.97 L348.575 1548.85 L343.69 1548.85 L343.69 1542.97 Z\" fill=\"#000000\" fill-rule=\"evenodd\" fill-opacity=\"1\" /><path clip-path=\"url(#clip000)\" d=\"M368.76 1517.37 Q365.149 1517.37 363.32 1520.93 Q361.514 1524.47 361.514 1531.6 Q361.514 1538.71 363.32 1542.27 Q365.149 1545.82 368.76 1545.82 Q372.394 1545.82 374.199 1542.27 Q376.028 1538.71 376.028 1531.6 Q376.028 1524.47 374.199 1520.93 Q372.394 1517.37 368.76 1517.37 M368.76 1513.66 Q374.57 1513.66 377.625 1518.27 Q380.704 1522.85 380.704 1531.6 Q380.704 1540.33 377.625 1544.94 Q374.57 1549.52 368.76 1549.52 Q362.95 1549.52 359.871 1544.94 Q356.815 1540.33 356.815 1531.6 Q356.815 1522.85 359.871 1518.27 Q362.95 1513.66 368.76 1513.66 Z\" fill=\"#000000\" fill-rule=\"evenodd\" fill-opacity=\"1\" /><path clip-path=\"url(#clip000)\" d=\"M398.922 1517.37 Q395.31 1517.37 393.482 1520.93 Q391.676 1524.47 391.676 1531.6 Q391.676 1538.71 393.482 1542.27 Q395.31 1545.82 398.922 1545.82 Q402.556 1545.82 404.361 1542.27 Q406.19 1538.71 406.19 1531.6 Q406.19 1524.47 404.361 1520.93 Q402.556 1517.37 398.922 1517.37 M398.922 1513.66 Q404.732 1513.66 407.787 1518.27 Q410.866 1522.85 410.866 1531.6 Q410.866 1540.33 407.787 1544.94 Q404.732 1549.52 398.922 1549.52 Q393.111 1549.52 390.033 1544.94 Q386.977 1540.33 386.977 1531.6 Q386.977 1522.85 390.033 1518.27 Q393.111 1513.66 398.922 1513.66 Z\" fill=\"#000000\" fill-rule=\"evenodd\" fill-opacity=\"1\" /><path clip-path=\"url(#clip000)\" d=\"M807.407 1517.37 Q803.796 1517.37 801.968 1520.93 Q800.162 1524.47 800.162 1531.6 Q800.162 1538.71 801.968 1542.27 Q803.796 1545.82 807.407 1545.82 Q811.042 1545.82 812.847 1542.27 Q814.676 1538.71 814.676 1531.6 Q814.676 1524.47 812.847 1520.93 Q811.042 1517.37 807.407 1517.37 M807.407 1513.66 Q813.218 1513.66 816.273 1518.27 Q819.352 1522.85 819.352 1531.6 Q819.352 1540.33 816.273 1544.94 Q813.218 1549.52 807.407 1549.52 Q801.597 1549.52 798.519 1544.94 Q795.463 1540.33 795.463 1531.6 Q795.463 1522.85 798.519 1518.27 Q801.597 1513.66 807.407 1513.66 Z\" fill=\"#000000\" fill-rule=\"evenodd\" fill-opacity=\"1\" /><path clip-path=\"url(#clip000)\" d=\"M827.569 1542.97 L832.454 1542.97 L832.454 1548.85 L827.569 1548.85 L827.569 1542.97 Z\" fill=\"#000000\" fill-rule=\"evenodd\" fill-opacity=\"1\" /><path clip-path=\"url(#clip000)\" d=\"M846.666 1544.91 L862.986 1544.91 L862.986 1548.85 L841.042 1548.85 L841.042 1544.91 Q843.704 1542.16 848.287 1537.53 Q852.893 1532.88 854.074 1531.53 Q856.319 1529.01 857.199 1527.27 Q858.102 1525.51 858.102 1523.82 Q858.102 1521.07 856.157 1519.33 Q854.236 1517.6 851.134 1517.6 Q848.935 1517.6 846.481 1518.36 Q844.051 1519.13 841.273 1520.68 L841.273 1515.95 Q844.097 1514.82 846.551 1514.24 Q849.004 1513.66 851.041 1513.66 Q856.412 1513.66 859.606 1516.35 Q862.801 1519.03 862.801 1523.52 Q862.801 1525.65 861.99 1527.57 Q861.203 1529.47 859.097 1532.07 Q858.518 1532.74 855.416 1535.95 Q852.315 1539.15 846.666 1544.91 Z\" fill=\"#000000\" fill-rule=\"evenodd\" fill-opacity=\"1\" /><path clip-path=\"url(#clip000)\" d=\"M872.847 1514.29 L891.203 1514.29 L891.203 1518.22 L877.129 1518.22 L877.129 1526.7 Q878.148 1526.35 879.166 1526.19 Q880.185 1526 881.203 1526 Q886.99 1526 890.37 1529.17 Q893.75 1532.34 893.75 1537.76 Q893.75 1543.34 890.277 1546.44 Q886.805 1549.52 880.486 1549.52 Q878.31 1549.52 876.041 1549.15 Q873.796 1548.78 871.389 1548.04 L871.389 1543.34 Q873.472 1544.47 875.694 1545.03 Q877.916 1545.58 880.393 1545.58 Q884.398 1545.58 886.736 1543.48 Q889.074 1541.37 889.074 1537.76 Q889.074 1534.15 886.736 1532.04 Q884.398 1529.94 880.393 1529.94 Q878.518 1529.94 876.643 1530.35 Q874.791 1530.77 872.847 1531.65 L872.847 1514.29 Z\" fill=\"#000000\" fill-rule=\"evenodd\" fill-opacity=\"1\" /><path clip-path=\"url(#clip000)\" d=\"M1290.29 1517.37 Q1286.68 1517.37 1284.85 1520.93 Q1283.05 1524.47 1283.05 1531.6 Q1283.05 1538.71 1284.85 1542.27 Q1286.68 1545.82 1290.29 1545.82 Q1293.93 1545.82 1295.73 1542.27 Q1297.56 1538.71 1297.56 1531.6 Q1297.56 1524.47 1295.73 1520.93 Q1293.93 1517.37 1290.29 1517.37 M1290.29 1513.66 Q1296.1 1513.66 1299.16 1518.27 Q1302.24 1522.85 1302.24 1531.6 Q1302.24 1540.33 1299.16 1544.94 Q1296.1 1549.52 1290.29 1549.52 Q1284.48 1549.52 1281.4 1544.94 Q1278.35 1540.33 1278.35 1531.6 Q1278.35 1522.85 1281.4 1518.27 Q1284.48 1513.66 1290.29 1513.66 Z\" fill=\"#000000\" fill-rule=\"evenodd\" fill-opacity=\"1\" /><path clip-path=\"url(#clip000)\" d=\"M1310.45 1542.97 L1315.34 1542.97 L1315.34 1548.85 L1310.45 1548.85 L1310.45 1542.97 Z\" fill=\"#000000\" fill-rule=\"evenodd\" fill-opacity=\"1\" /><path clip-path=\"url(#clip000)\" d=\"M1325.57 1514.29 L1343.93 1514.29 L1343.93 1518.22 L1329.85 1518.22 L1329.85 1526.7 Q1330.87 1526.35 1331.89 1526.19 Q1332.91 1526 1333.93 1526 Q1339.71 1526 1343.09 1529.17 Q1346.47 1532.34 1346.47 1537.76 Q1346.47 1543.34 1343 1546.44 Q1339.53 1549.52 1333.21 1549.52 Q1331.03 1549.52 1328.76 1549.15 Q1326.52 1548.78 1324.11 1548.04 L1324.11 1543.34 Q1326.19 1544.47 1328.42 1545.03 Q1330.64 1545.58 1333.11 1545.58 Q1337.12 1545.58 1339.46 1543.48 Q1341.8 1541.37 1341.8 1537.76 Q1341.8 1534.15 1339.46 1532.04 Q1337.12 1529.94 1333.11 1529.94 Q1331.24 1529.94 1329.36 1530.35 Q1327.51 1530.77 1325.57 1531.65 L1325.57 1514.29 Z\" fill=\"#000000\" fill-rule=\"evenodd\" fill-opacity=\"1\" /><path clip-path=\"url(#clip000)\" d=\"M1365.68 1517.37 Q1362.07 1517.37 1360.24 1520.93 Q1358.44 1524.47 1358.44 1531.6 Q1358.44 1538.71 1360.24 1542.27 Q1362.07 1545.82 1365.68 1545.82 Q1369.32 1545.82 1371.12 1542.27 Q1372.95 1538.71 1372.95 1531.6 Q1372.95 1524.47 1371.12 1520.93 Q1369.32 1517.37 1365.68 1517.37 M1365.68 1513.66 Q1371.49 1513.66 1374.55 1518.27 Q1377.63 1522.85 1377.63 1531.6 Q1377.63 1540.33 1374.55 1544.94 Q1371.49 1549.52 1365.68 1549.52 Q1359.87 1549.52 1356.8 1544.94 Q1353.74 1540.33 1353.74 1531.6 Q1353.74 1522.85 1356.8 1518.27 Q1359.87 1513.66 1365.68 1513.66 Z\" fill=\"#000000\" fill-rule=\"evenodd\" fill-opacity=\"1\" /><path clip-path=\"url(#clip000)\" d=\"M1774.17 1517.37 Q1770.56 1517.37 1768.73 1520.93 Q1766.92 1524.47 1766.92 1531.6 Q1766.92 1538.71 1768.73 1542.27 Q1770.56 1545.82 1774.17 1545.82 Q1777.8 1545.82 1779.61 1542.27 Q1781.44 1538.71 1781.44 1531.6 Q1781.44 1524.47 1779.61 1520.93 Q1777.8 1517.37 1774.17 1517.37 M1774.17 1513.66 Q1779.98 1513.66 1783.04 1518.27 Q1786.11 1522.85 1786.11 1531.6 Q1786.11 1540.33 1783.04 1544.94 Q1779.98 1549.52 1774.17 1549.52 Q1768.36 1549.52 1765.28 1544.94 Q1762.23 1540.33 1762.23 1531.6 Q1762.23 1522.85 1765.28 1518.27 Q1768.36 1513.66 1774.17 1513.66 Z\" fill=\"#000000\" fill-rule=\"evenodd\" fill-opacity=\"1\" /><path clip-path=\"url(#clip000)\" d=\"M1794.33 1542.97 L1799.22 1542.97 L1799.22 1548.85 L1794.33 1548.85 L1794.33 1542.97 Z\" fill=\"#000000\" fill-rule=\"evenodd\" fill-opacity=\"1\" /><path clip-path=\"url(#clip000)\" d=\"M1808.22 1514.29 L1830.44 1514.29 L1830.44 1516.28 L1817.9 1548.85 L1813.01 1548.85 L1824.82 1518.22 L1808.22 1518.22 L1808.22 1514.29 Z\" fill=\"#000000\" fill-rule=\"evenodd\" fill-opacity=\"1\" /><path clip-path=\"url(#clip000)\" d=\"M1839.61 1514.29 L1857.97 1514.29 L1857.97 1518.22 L1843.89 1518.22 L1843.89 1526.7 Q1844.91 1526.35 1845.93 1526.19 Q1846.95 1526 1847.97 1526 Q1853.75 1526 1857.13 1529.17 Q1860.51 1532.34 1860.51 1537.76 Q1860.51 1543.34 1857.04 1546.44 Q1853.57 1549.52 1847.25 1549.52 Q1845.07 1549.52 1842.8 1549.15 Q1840.56 1548.78 1838.15 1548.04 L1838.15 1543.34 Q1840.23 1544.47 1842.46 1545.03 Q1844.68 1545.58 1847.16 1545.58 Q1851.16 1545.58 1853.5 1543.48 Q1855.84 1541.37 1855.84 1537.76 Q1855.84 1534.15 1853.5 1532.04 Q1851.16 1529.94 1847.16 1529.94 Q1845.28 1529.94 1843.41 1530.35 Q1841.55 1530.77 1839.61 1531.65 L1839.61 1514.29 Z\" fill=\"#000000\" fill-rule=\"evenodd\" fill-opacity=\"1\" /><path clip-path=\"url(#clip000)\" d=\"M2246.82 1544.91 L2254.46 1544.91 L2254.46 1518.55 L2246.15 1520.21 L2246.15 1515.95 L2254.41 1514.29 L2259.09 1514.29 L2259.09 1544.91 L2266.73 1544.91 L2266.73 1548.85 L2246.82 1548.85 L2246.82 1544.91 Z\" fill=\"#000000\" fill-rule=\"evenodd\" fill-opacity=\"1\" /><path clip-path=\"url(#clip000)\" d=\"M2276.17 1542.97 L2281.06 1542.97 L2281.06 1548.85 L2276.17 1548.85 L2276.17 1542.97 Z\" fill=\"#000000\" fill-rule=\"evenodd\" fill-opacity=\"1\" /><path clip-path=\"url(#clip000)\" d=\"M2301.24 1517.37 Q2297.63 1517.37 2295.8 1520.93 Q2294 1524.47 2294 1531.6 Q2294 1538.71 2295.8 1542.27 Q2297.63 1545.82 2301.24 1545.82 Q2304.88 1545.82 2306.68 1542.27 Q2308.51 1538.71 2308.51 1531.6 Q2308.51 1524.47 2306.68 1520.93 Q2304.88 1517.37 2301.24 1517.37 M2301.24 1513.66 Q2307.05 1513.66 2310.11 1518.27 Q2313.19 1522.85 2313.19 1531.6 Q2313.19 1540.33 2310.11 1544.94 Q2307.05 1549.52 2301.24 1549.52 Q2295.43 1549.52 2292.35 1544.94 Q2289.3 1540.33 2289.3 1531.6 Q2289.3 1522.85 2292.35 1518.27 Q2295.43 1513.66 2301.24 1513.66 Z\" fill=\"#000000\" fill-rule=\"evenodd\" fill-opacity=\"1\" /><path clip-path=\"url(#clip000)\" d=\"M2331.41 1517.37 Q2327.79 1517.37 2325.97 1520.93 Q2324.16 1524.47 2324.16 1531.6 Q2324.16 1538.71 2325.97 1542.27 Q2327.79 1545.82 2331.41 1545.82 Q2335.04 1545.82 2336.84 1542.27 Q2338.67 1538.71 2338.67 1531.6 Q2338.67 1524.47 2336.84 1520.93 Q2335.04 1517.37 2331.41 1517.37 M2331.41 1513.66 Q2337.22 1513.66 2340.27 1518.27 Q2343.35 1522.85 2343.35 1531.6 Q2343.35 1540.33 2340.27 1544.94 Q2337.22 1549.52 2331.41 1549.52 Q2325.59 1549.52 2322.52 1544.94 Q2319.46 1540.33 2319.46 1531.6 Q2319.46 1522.85 2322.52 1518.27 Q2325.59 1513.66 2331.41 1513.66 Z\" fill=\"#000000\" fill-rule=\"evenodd\" fill-opacity=\"1\" /><polyline clip-path=\"url(#clip002)\" style=\"stroke:#000000; stroke-linecap:round; stroke-linejoin:round; stroke-width:2; stroke-opacity:0.1; fill:none\" points=\"\n",
       "  303.219,1445.72 2352.76,1445.72 \n",
       "  \"/>\n",
       "<polyline clip-path=\"url(#clip002)\" style=\"stroke:#000000; stroke-linecap:round; stroke-linejoin:round; stroke-width:2; stroke-opacity:0.1; fill:none\" points=\"\n",
       "  303.219,1106.28 2352.76,1106.28 \n",
       "  \"/>\n",
       "<polyline clip-path=\"url(#clip002)\" style=\"stroke:#000000; stroke-linecap:round; stroke-linejoin:round; stroke-width:2; stroke-opacity:0.1; fill:none\" points=\"\n",
       "  303.219,766.846 2352.76,766.846 \n",
       "  \"/>\n",
       "<polyline clip-path=\"url(#clip002)\" style=\"stroke:#000000; stroke-linecap:round; stroke-linejoin:round; stroke-width:2; stroke-opacity:0.1; fill:none\" points=\"\n",
       "  303.219,427.412 2352.76,427.412 \n",
       "  \"/>\n",
       "<polyline clip-path=\"url(#clip002)\" style=\"stroke:#000000; stroke-linecap:round; stroke-linejoin:round; stroke-width:2; stroke-opacity:0.1; fill:none\" points=\"\n",
       "  303.219,87.977 2352.76,87.977 \n",
       "  \"/>\n",
       "<polyline clip-path=\"url(#clip000)\" style=\"stroke:#000000; stroke-linecap:round; stroke-linejoin:round; stroke-width:4; stroke-opacity:1; fill:none\" points=\"\n",
       "  303.219,1486.45 303.219,47.2441 \n",
       "  \"/>\n",
       "<polyline clip-path=\"url(#clip000)\" style=\"stroke:#000000; stroke-linecap:round; stroke-linejoin:round; stroke-width:4; stroke-opacity:1; fill:none\" points=\"\n",
       "  303.219,1445.72 322.117,1445.72 \n",
       "  \"/>\n",
       "<polyline clip-path=\"url(#clip000)\" style=\"stroke:#000000; stroke-linecap:round; stroke-linejoin:round; stroke-width:4; stroke-opacity:1; fill:none\" points=\"\n",
       "  303.219,1106.28 322.117,1106.28 \n",
       "  \"/>\n",
       "<polyline clip-path=\"url(#clip000)\" style=\"stroke:#000000; stroke-linecap:round; stroke-linejoin:round; stroke-width:4; stroke-opacity:1; fill:none\" points=\"\n",
       "  303.219,766.846 322.117,766.846 \n",
       "  \"/>\n",
       "<polyline clip-path=\"url(#clip000)\" style=\"stroke:#000000; stroke-linecap:round; stroke-linejoin:round; stroke-width:4; stroke-opacity:1; fill:none\" points=\"\n",
       "  303.219,427.412 322.117,427.412 \n",
       "  \"/>\n",
       "<polyline clip-path=\"url(#clip000)\" style=\"stroke:#000000; stroke-linecap:round; stroke-linejoin:round; stroke-width:4; stroke-opacity:1; fill:none\" points=\"\n",
       "  303.219,87.977 322.117,87.977 \n",
       "  \"/>\n",
       "<path clip-path=\"url(#clip000)\" d=\"M51.6634 1465.51 L59.3023 1465.51 L59.3023 1439.14 L50.9921 1440.81 L50.9921 1436.55 L59.256 1434.88 L63.9319 1434.88 L63.9319 1465.51 L71.5707 1465.51 L71.5707 1469.44 L51.6634 1469.44 L51.6634 1465.51 Z\" fill=\"#000000\" fill-rule=\"evenodd\" fill-opacity=\"1\" /><path clip-path=\"url(#clip000)\" d=\"M81.0151 1463.56 L85.8993 1463.56 L85.8993 1469.44 L81.0151 1469.44 L81.0151 1463.56 Z\" fill=\"#000000\" fill-rule=\"evenodd\" fill-opacity=\"1\" /><path clip-path=\"url(#clip000)\" d=\"M106.084 1437.96 Q102.473 1437.96 100.645 1441.53 Q98.8391 1445.07 98.8391 1452.2 Q98.8391 1459.3 100.645 1462.87 Q102.473 1466.41 106.084 1466.41 Q109.719 1466.41 111.524 1462.87 Q113.353 1459.3 113.353 1452.2 Q113.353 1445.07 111.524 1441.53 Q109.719 1437.96 106.084 1437.96 M106.084 1434.26 Q111.895 1434.26 114.95 1438.86 Q118.029 1443.45 118.029 1452.2 Q118.029 1460.92 114.95 1465.53 Q111.895 1470.11 106.084 1470.11 Q100.274 1470.11 97.1956 1465.53 Q94.14 1460.92 94.14 1452.2 Q94.14 1443.45 97.1956 1438.86 Q100.274 1434.26 106.084 1434.26 Z\" fill=\"#000000\" fill-rule=\"evenodd\" fill-opacity=\"1\" /><path clip-path=\"url(#clip000)\" d=\"M154.417 1443.98 L143.839 1454.61 L154.417 1465.18 L151.663 1467.98 L141.038 1457.36 L130.413 1467.98 L127.682 1465.18 L138.237 1454.61 L127.682 1443.98 L130.413 1441.18 L141.038 1451.8 L151.663 1441.18 L154.417 1443.98 Z\" fill=\"#000000\" fill-rule=\"evenodd\" fill-opacity=\"1\" /><path clip-path=\"url(#clip000)\" d=\"M166.779 1465.51 L174.417 1465.51 L174.417 1439.14 L166.107 1440.81 L166.107 1436.55 L174.371 1434.88 L179.047 1434.88 L179.047 1465.51 L186.686 1465.51 L186.686 1469.44 L166.779 1469.44 L166.779 1465.51 Z\" fill=\"#000000\" fill-rule=\"evenodd\" fill-opacity=\"1\" /><path clip-path=\"url(#clip000)\" d=\"M206.13 1437.96 Q202.519 1437.96 200.69 1441.53 Q198.885 1445.07 198.885 1452.2 Q198.885 1459.3 200.69 1462.87 Q202.519 1466.41 206.13 1466.41 Q209.764 1466.41 211.57 1462.87 Q213.399 1459.3 213.399 1452.2 Q213.399 1445.07 211.57 1441.53 Q209.764 1437.96 206.13 1437.96 M206.13 1434.26 Q211.94 1434.26 214.996 1438.86 Q218.075 1443.45 218.075 1452.2 Q218.075 1460.92 214.996 1465.53 Q211.94 1470.11 206.13 1470.11 Q200.32 1470.11 197.241 1465.53 Q194.186 1460.92 194.186 1452.2 Q194.186 1443.45 197.241 1438.86 Q200.32 1434.26 206.13 1434.26 Z\" fill=\"#000000\" fill-rule=\"evenodd\" fill-opacity=\"1\" /><path clip-path=\"url(#clip000)\" d=\"M218.075 1428.36 L242.186 1428.36 L242.186 1431.56 L218.075 1431.56 L218.075 1428.36 Z\" fill=\"#000000\" fill-rule=\"evenodd\" fill-opacity=\"1\" /><path clip-path=\"url(#clip000)\" d=\"M251.045 1438.84 L257.251 1438.84 L257.251 1417.41 L250.499 1418.77 L250.499 1415.31 L257.214 1413.95 L261.013 1413.95 L261.013 1438.84 L267.219 1438.84 L267.219 1442.03 L251.045 1442.03 L251.045 1438.84 Z\" fill=\"#000000\" fill-rule=\"evenodd\" fill-opacity=\"1\" /><path clip-path=\"url(#clip000)\" d=\"M51.6634 1126.07 L59.3023 1126.07 L59.3023 1099.71 L50.9921 1101.37 L50.9921 1097.12 L59.256 1095.45 L63.9319 1095.45 L63.9319 1126.07 L71.5707 1126.07 L71.5707 1130.01 L51.6634 1130.01 L51.6634 1126.07 Z\" fill=\"#000000\" fill-rule=\"evenodd\" fill-opacity=\"1\" /><path clip-path=\"url(#clip000)\" d=\"M81.0151 1124.13 L85.8993 1124.13 L85.8993 1130.01 L81.0151 1130.01 L81.0151 1124.13 Z\" fill=\"#000000\" fill-rule=\"evenodd\" fill-opacity=\"1\" /><path clip-path=\"url(#clip000)\" d=\"M106.084 1098.53 Q102.473 1098.53 100.645 1102.09 Q98.8391 1105.63 98.8391 1112.76 Q98.8391 1119.87 100.645 1123.43 Q102.473 1126.98 106.084 1126.98 Q109.719 1126.98 111.524 1123.43 Q113.353 1119.87 113.353 1112.76 Q113.353 1105.63 111.524 1102.09 Q109.719 1098.53 106.084 1098.53 M106.084 1094.82 Q111.895 1094.82 114.95 1099.43 Q118.029 1104.01 118.029 1112.76 Q118.029 1121.49 114.95 1126.1 Q111.895 1130.68 106.084 1130.68 Q100.274 1130.68 97.1956 1126.1 Q94.14 1121.49 94.14 1112.76 Q94.14 1104.01 97.1956 1099.43 Q100.274 1094.82 106.084 1094.82 Z\" fill=\"#000000\" fill-rule=\"evenodd\" fill-opacity=\"1\" /><path clip-path=\"url(#clip000)\" d=\"M154.417 1104.55 L143.839 1115.17 L154.417 1125.75 L151.663 1128.55 L141.038 1117.93 L130.413 1128.55 L127.682 1125.75 L138.237 1115.17 L127.682 1104.55 L130.413 1101.74 L141.038 1112.37 L151.663 1101.74 L154.417 1104.55 Z\" fill=\"#000000\" fill-rule=\"evenodd\" fill-opacity=\"1\" /><path clip-path=\"url(#clip000)\" d=\"M166.779 1126.07 L174.417 1126.07 L174.417 1099.71 L166.107 1101.37 L166.107 1097.12 L174.371 1095.45 L179.047 1095.45 L179.047 1126.07 L186.686 1126.07 L186.686 1130.01 L166.779 1130.01 L166.779 1126.07 Z\" fill=\"#000000\" fill-rule=\"evenodd\" fill-opacity=\"1\" /><path clip-path=\"url(#clip000)\" d=\"M206.13 1098.53 Q202.519 1098.53 200.69 1102.09 Q198.885 1105.63 198.885 1112.76 Q198.885 1119.87 200.69 1123.43 Q202.519 1126.98 206.13 1126.98 Q209.764 1126.98 211.57 1123.43 Q213.399 1119.87 213.399 1112.76 Q213.399 1105.63 211.57 1102.09 Q209.764 1098.53 206.13 1098.53 M206.13 1094.82 Q211.94 1094.82 214.996 1099.43 Q218.075 1104.01 218.075 1112.76 Q218.075 1121.49 214.996 1126.1 Q211.94 1130.68 206.13 1130.68 Q200.32 1130.68 197.241 1126.1 Q194.186 1121.49 194.186 1112.76 Q194.186 1104.01 197.241 1099.43 Q200.32 1094.82 206.13 1094.82 Z\" fill=\"#000000\" fill-rule=\"evenodd\" fill-opacity=\"1\" /><path clip-path=\"url(#clip000)\" d=\"M218.075 1088.92 L242.186 1088.92 L242.186 1092.12 L218.075 1092.12 L218.075 1088.92 Z\" fill=\"#000000\" fill-rule=\"evenodd\" fill-opacity=\"1\" /><path clip-path=\"url(#clip000)\" d=\"M251.045 1099.4 L257.251 1099.4 L257.251 1077.98 L250.499 1079.33 L250.499 1075.87 L257.214 1074.52 L261.013 1074.52 L261.013 1099.4 L267.219 1099.4 L267.219 1102.6 L251.045 1102.6 L251.045 1099.4 Z\" fill=\"#000000\" fill-rule=\"evenodd\" fill-opacity=\"1\" /><path clip-path=\"url(#clip000)\" d=\"M51.6634 786.639 L59.3023 786.639 L59.3023 760.273 L50.9921 761.94 L50.9921 757.681 L59.256 756.014 L63.9319 756.014 L63.9319 786.639 L71.5707 786.639 L71.5707 790.574 L51.6634 790.574 L51.6634 786.639 Z\" fill=\"#000000\" fill-rule=\"evenodd\" fill-opacity=\"1\" /><path clip-path=\"url(#clip000)\" d=\"M81.0151 784.694 L85.8993 784.694 L85.8993 790.574 L81.0151 790.574 L81.0151 784.694 Z\" fill=\"#000000\" fill-rule=\"evenodd\" fill-opacity=\"1\" /><path clip-path=\"url(#clip000)\" d=\"M106.084 759.093 Q102.473 759.093 100.645 762.657 Q98.8391 766.199 98.8391 773.329 Q98.8391 780.435 100.645 784 Q102.473 787.542 106.084 787.542 Q109.719 787.542 111.524 784 Q113.353 780.435 113.353 773.329 Q113.353 766.199 111.524 762.657 Q109.719 759.093 106.084 759.093 M106.084 755.389 Q111.895 755.389 114.95 759.995 Q118.029 764.579 118.029 773.329 Q118.029 782.055 114.95 786.662 Q111.895 791.245 106.084 791.245 Q100.274 791.245 97.1956 786.662 Q94.14 782.055 94.14 773.329 Q94.14 764.579 97.1956 759.995 Q100.274 755.389 106.084 755.389 Z\" fill=\"#000000\" fill-rule=\"evenodd\" fill-opacity=\"1\" /><path clip-path=\"url(#clip000)\" d=\"M154.417 765.111 L143.839 775.736 L154.417 786.315 L151.663 789.116 L141.038 778.491 L130.413 789.116 L127.682 786.315 L138.237 775.736 L127.682 765.111 L130.413 762.31 L141.038 772.935 L151.663 762.31 L154.417 765.111 Z\" fill=\"#000000\" fill-rule=\"evenodd\" fill-opacity=\"1\" /><path clip-path=\"url(#clip000)\" d=\"M166.779 786.639 L174.417 786.639 L174.417 760.273 L166.107 761.94 L166.107 757.681 L174.371 756.014 L179.047 756.014 L179.047 786.639 L186.686 786.639 L186.686 790.574 L166.779 790.574 L166.779 786.639 Z\" fill=\"#000000\" fill-rule=\"evenodd\" fill-opacity=\"1\" /><path clip-path=\"url(#clip000)\" d=\"M206.13 759.093 Q202.519 759.093 200.69 762.657 Q198.885 766.199 198.885 773.329 Q198.885 780.435 200.69 784 Q202.519 787.542 206.13 787.542 Q209.764 787.542 211.57 784 Q213.399 780.435 213.399 773.329 Q213.399 766.199 211.57 762.657 Q209.764 759.093 206.13 759.093 M206.13 755.389 Q211.94 755.389 214.996 759.995 Q218.075 764.579 218.075 773.329 Q218.075 782.055 214.996 786.662 Q211.94 791.245 206.13 791.245 Q200.32 791.245 197.241 786.662 Q194.186 782.055 194.186 773.329 Q194.186 764.579 197.241 759.995 Q200.32 755.389 206.13 755.389 Z\" fill=\"#000000\" fill-rule=\"evenodd\" fill-opacity=\"1\" /><path clip-path=\"url(#clip000)\" d=\"M218.075 749.49 L242.186 749.49 L242.186 752.688 L218.075 752.688 L218.075 749.49 Z\" fill=\"#000000\" fill-rule=\"evenodd\" fill-opacity=\"1\" /><path clip-path=\"url(#clip000)\" d=\"M251.045 759.966 L257.251 759.966 L257.251 738.544 L250.499 739.898 L250.499 736.438 L257.214 735.084 L261.013 735.084 L261.013 759.966 L267.219 759.966 L267.219 763.164 L251.045 763.164 L251.045 759.966 Z\" fill=\"#000000\" fill-rule=\"evenodd\" fill-opacity=\"1\" /><path clip-path=\"url(#clip000)\" d=\"M51.6634 447.204 L59.3023 447.204 L59.3023 420.838 L50.9921 422.505 L50.9921 418.246 L59.256 416.579 L63.9319 416.579 L63.9319 447.204 L71.5707 447.204 L71.5707 451.139 L51.6634 451.139 L51.6634 447.204 Z\" fill=\"#000000\" fill-rule=\"evenodd\" fill-opacity=\"1\" /><path clip-path=\"url(#clip000)\" d=\"M81.0151 445.26 L85.8993 445.26 L85.8993 451.139 L81.0151 451.139 L81.0151 445.26 Z\" fill=\"#000000\" fill-rule=\"evenodd\" fill-opacity=\"1\" /><path clip-path=\"url(#clip000)\" d=\"M106.084 419.658 Q102.473 419.658 100.645 423.223 Q98.8391 426.764 98.8391 433.894 Q98.8391 441 100.645 444.565 Q102.473 448.107 106.084 448.107 Q109.719 448.107 111.524 444.565 Q113.353 441 113.353 433.894 Q113.353 426.764 111.524 423.223 Q109.719 419.658 106.084 419.658 M106.084 415.954 Q111.895 415.954 114.95 420.561 Q118.029 425.144 118.029 433.894 Q118.029 442.621 114.95 447.227 Q111.895 451.811 106.084 451.811 Q100.274 451.811 97.1956 447.227 Q94.14 442.621 94.14 433.894 Q94.14 425.144 97.1956 420.561 Q100.274 415.954 106.084 415.954 Z\" fill=\"#000000\" fill-rule=\"evenodd\" fill-opacity=\"1\" /><path clip-path=\"url(#clip000)\" d=\"M154.417 425.676 L143.839 436.301 L154.417 446.88 L151.663 449.681 L141.038 439.056 L130.413 449.681 L127.682 446.88 L138.237 436.301 L127.682 425.676 L130.413 422.876 L141.038 433.5 L151.663 422.876 L154.417 425.676 Z\" fill=\"#000000\" fill-rule=\"evenodd\" fill-opacity=\"1\" /><path clip-path=\"url(#clip000)\" d=\"M166.779 447.204 L174.417 447.204 L174.417 420.838 L166.107 422.505 L166.107 418.246 L174.371 416.579 L179.047 416.579 L179.047 447.204 L186.686 447.204 L186.686 451.139 L166.779 451.139 L166.779 447.204 Z\" fill=\"#000000\" fill-rule=\"evenodd\" fill-opacity=\"1\" /><path clip-path=\"url(#clip000)\" d=\"M206.13 419.658 Q202.519 419.658 200.69 423.223 Q198.885 426.764 198.885 433.894 Q198.885 441 200.69 444.565 Q202.519 448.107 206.13 448.107 Q209.764 448.107 211.57 444.565 Q213.399 441 213.399 433.894 Q213.399 426.764 211.57 423.223 Q209.764 419.658 206.13 419.658 M206.13 415.954 Q211.94 415.954 214.996 420.561 Q218.075 425.144 218.075 433.894 Q218.075 442.621 214.996 447.227 Q211.94 451.811 206.13 451.811 Q200.32 451.811 197.241 447.227 Q194.186 442.621 194.186 433.894 Q194.186 425.144 197.241 420.561 Q200.32 415.954 206.13 415.954 Z\" fill=\"#000000\" fill-rule=\"evenodd\" fill-opacity=\"1\" /><path clip-path=\"url(#clip000)\" d=\"M218.075 410.056 L242.186 410.056 L242.186 413.253 L218.075 413.253 L218.075 410.056 Z\" fill=\"#000000\" fill-rule=\"evenodd\" fill-opacity=\"1\" /><path clip-path=\"url(#clip000)\" d=\"M251.045 420.532 L257.251 420.532 L257.251 399.109 L250.499 400.464 L250.499 397.003 L257.214 395.649 L261.013 395.649 L261.013 420.532 L267.219 420.532 L267.219 423.729 L251.045 423.729 L251.045 420.532 Z\" fill=\"#000000\" fill-rule=\"evenodd\" fill-opacity=\"1\" /><path clip-path=\"url(#clip000)\" d=\"M51.6634 107.769 L59.3023 107.769 L59.3023 81.4038 L50.9921 83.0705 L50.9921 78.8112 L59.256 77.1446 L63.9319 77.1446 L63.9319 107.769 L71.5707 107.769 L71.5707 111.705 L51.6634 111.705 L51.6634 107.769 Z\" fill=\"#000000\" fill-rule=\"evenodd\" fill-opacity=\"1\" /><path clip-path=\"url(#clip000)\" d=\"M81.0151 105.825 L85.8993 105.825 L85.8993 111.705 L81.0151 111.705 L81.0151 105.825 Z\" fill=\"#000000\" fill-rule=\"evenodd\" fill-opacity=\"1\" /><path clip-path=\"url(#clip000)\" d=\"M106.084 80.2232 Q102.473 80.2232 100.645 83.788 Q98.8391 87.3297 98.8391 94.4593 Q98.8391 101.566 100.645 105.131 Q102.473 108.672 106.084 108.672 Q109.719 108.672 111.524 105.131 Q113.353 101.566 113.353 94.4593 Q113.353 87.3297 111.524 83.788 Q109.719 80.2232 106.084 80.2232 M106.084 76.5196 Q111.895 76.5196 114.95 81.126 Q118.029 85.7093 118.029 94.4593 Q118.029 103.186 114.95 107.793 Q111.895 112.376 106.084 112.376 Q100.274 112.376 97.1956 107.793 Q94.14 103.186 94.14 94.4593 Q94.14 85.7093 97.1956 81.126 Q100.274 76.5196 106.084 76.5196 Z\" fill=\"#000000\" fill-rule=\"evenodd\" fill-opacity=\"1\" /><path clip-path=\"url(#clip000)\" d=\"M154.417 86.2417 L143.839 96.8667 L154.417 107.445 L151.663 110.246 L141.038 99.6213 L130.413 110.246 L127.682 107.445 L138.237 96.8667 L127.682 86.2417 L130.413 83.4408 L141.038 94.0658 L151.663 83.4408 L154.417 86.2417 Z\" fill=\"#000000\" fill-rule=\"evenodd\" fill-opacity=\"1\" /><path clip-path=\"url(#clip000)\" d=\"M166.779 107.769 L174.417 107.769 L174.417 81.4038 L166.107 83.0705 L166.107 78.8112 L174.371 77.1446 L179.047 77.1446 L179.047 107.769 L186.686 107.769 L186.686 111.705 L166.779 111.705 L166.779 107.769 Z\" fill=\"#000000\" fill-rule=\"evenodd\" fill-opacity=\"1\" /><path clip-path=\"url(#clip000)\" d=\"M206.13 80.2232 Q202.519 80.2232 200.69 83.788 Q198.885 87.3297 198.885 94.4593 Q198.885 101.566 200.69 105.131 Q202.519 108.672 206.13 108.672 Q209.764 108.672 211.57 105.131 Q213.399 101.566 213.399 94.4593 Q213.399 87.3297 211.57 83.788 Q209.764 80.2232 206.13 80.2232 M206.13 76.5196 Q211.94 76.5196 214.996 81.126 Q218.075 85.7093 218.075 94.4593 Q218.075 103.186 214.996 107.793 Q211.94 112.376 206.13 112.376 Q200.32 112.376 197.241 107.793 Q194.186 103.186 194.186 94.4593 Q194.186 85.7093 197.241 81.126 Q200.32 76.5196 206.13 76.5196 Z\" fill=\"#000000\" fill-rule=\"evenodd\" fill-opacity=\"1\" /><path clip-path=\"url(#clip000)\" d=\"M218.075 70.6209 L242.186 70.6209 L242.186 73.8182 L218.075 73.8182 L218.075 70.6209 Z\" fill=\"#000000\" fill-rule=\"evenodd\" fill-opacity=\"1\" /><path clip-path=\"url(#clip000)\" d=\"M251.045 81.0968 L257.251 81.0968 L257.251 59.6748 L250.499 61.029 L250.499 57.5683 L257.214 56.2142 L261.013 56.2142 L261.013 81.0968 L267.219 81.0968 L267.219 84.2942 L251.045 84.2942 L251.045 81.0968 Z\" fill=\"#000000\" fill-rule=\"evenodd\" fill-opacity=\"1\" /><polyline clip-path=\"url(#clip002)\" style=\"stroke:#009af9; stroke-linecap:round; stroke-linejoin:round; stroke-width:4; stroke-opacity:1; fill:none\" points=\"\n",
       "  361.225,1445.72 380.56,1432.14 399.896,1418.56 419.231,1404.98 438.566,1391.41 457.901,1377.83 477.237,1364.25 496.572,1350.67 515.907,1337.1 535.242,1323.52 \n",
       "  554.578,1309.94 573.913,1296.36 593.248,1282.79 612.583,1269.21 631.919,1255.63 651.254,1242.05 670.589,1228.48 689.924,1214.9 709.26,1201.32 728.595,1187.75 \n",
       "  747.93,1174.17 767.265,1160.59 786.601,1147.01 805.936,1133.44 825.271,1119.86 844.606,1106.28 863.942,1092.7 883.277,1079.13 902.612,1065.55 921.947,1051.97 \n",
       "  941.283,1038.39 960.618,1024.82 979.953,1011.24 999.288,997.662 1018.62,984.084 1037.96,970.507 1057.29,956.93 1076.63,943.352 1095.96,929.775 1115.3,916.197 \n",
       "  1134.64,902.62 1153.97,889.043 1173.31,875.465 1192.64,861.888 1211.98,848.311 1231.31,834.733 1250.65,821.156 1269.98,807.578 1289.32,794.001 1308.65,780.424 \n",
       "  1327.99,766.846 1347.32,753.269 1366.66,739.691 1385.99,726.114 1405.33,712.537 1424.66,698.959 1444,685.382 1463.33,671.804 1482.67,658.227 1502,644.65 \n",
       "  1521.34,631.072 1540.68,617.495 1560.01,603.917 1579.35,590.34 1598.68,576.763 1618.02,563.185 1637.35,549.608 1656.69,536.03 1676.02,522.453 1695.36,508.876 \n",
       "  1714.69,495.298 1734.03,481.721 1753.36,468.143 1772.7,454.566 1792.03,440.989 1811.37,427.411 1830.7,413.834 1850.04,400.256 1869.37,386.679 1888.71,373.102 \n",
       "  1908.05,359.524 1927.38,345.947 1946.72,332.369 1966.05,318.792 1985.39,305.215 2004.72,291.637 2024.06,278.06 2043.39,264.482 2062.73,250.905 2082.06,237.328 \n",
       "  2101.4,223.75 2120.73,210.173 2140.07,196.595 2159.4,183.018 2178.74,169.441 2198.07,155.863 2217.41,142.286 2236.74,128.708 2256.08,115.131 2275.41,101.554 \n",
       "  2294.75,87.9763 \n",
       "  \"/>\n",
       "<path clip-path=\"url(#clip000)\" d=\"\n",
       "M2004.28 198.898 L2284.44 198.898 L2284.44 95.2176 L2004.28 95.2176  Z\n",
       "  \" fill=\"#ffffff\" fill-rule=\"evenodd\" fill-opacity=\"1\"/>\n",
       "<polyline clip-path=\"url(#clip000)\" style=\"stroke:#000000; stroke-linecap:round; stroke-linejoin:round; stroke-width:4; stroke-opacity:1; fill:none\" points=\"\n",
       "  2004.28,198.898 2284.44,198.898 2284.44,95.2176 2004.28,95.2176 2004.28,198.898 \n",
       "  \"/>\n",
       "<polyline clip-path=\"url(#clip000)\" style=\"stroke:#009af9; stroke-linecap:round; stroke-linejoin:round; stroke-width:4; stroke-opacity:1; fill:none\" points=\"\n",
       "  2027.05,147.058 2163.69,147.058 \n",
       "  \"/>\n",
       "<path clip-path=\"url(#clip000)\" d=\"M2200.31 166.745 Q2198.5 171.375 2196.79 172.787 Q2195.07 174.199 2192.2 174.199 L2188.8 174.199 L2188.8 170.634 L2191.3 170.634 Q2193.06 170.634 2194.03 169.8 Q2195 168.967 2196.18 165.865 L2196.95 163.921 L2186.46 138.412 L2190.98 138.412 L2199.08 158.689 L2207.18 138.412 L2211.69 138.412 L2200.31 166.745 Z\" fill=\"#000000\" fill-rule=\"evenodd\" fill-opacity=\"1\" /><path clip-path=\"url(#clip000)\" d=\"M2218.99 160.402 L2226.62 160.402 L2226.62 134.037 L2218.31 135.703 L2218.31 131.444 L2226.58 129.778 L2231.25 129.778 L2231.25 160.402 L2238.89 160.402 L2238.89 164.338 L2218.99 164.338 L2218.99 160.402 Z\" fill=\"#000000\" fill-rule=\"evenodd\" fill-opacity=\"1\" /></svg>\n"
      ]
     },
     "execution_count": 41,
     "metadata": {},
     "output_type": "execute_result"
    }
   ],
   "source": [
    "plot(T,X[:,4])"
   ]
  },
  {
   "cell_type": "code",
   "execution_count": null,
   "id": "396a87ca-4f66-426b-bf20-765d43c4c12f",
   "metadata": {},
   "outputs": [],
   "source": []
  }
 ],
 "metadata": {
  "kernelspec": {
   "display_name": "Julia 1.8.0",
   "language": "julia",
   "name": "julia-1.8"
  },
  "language_info": {
   "file_extension": ".jl",
   "mimetype": "application/julia",
   "name": "julia",
   "version": "1.8.2"
  }
 },
 "nbformat": 4,
 "nbformat_minor": 5
}
