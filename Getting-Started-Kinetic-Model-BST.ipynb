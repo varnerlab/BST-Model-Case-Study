{
 "cells": [
  {
   "cell_type": "markdown",
   "id": "f06ddf39-3ee5-4b43-8614-ae0f106768d5",
   "metadata": {},
   "source": [
    "## Biochemical Systems Theory and S-System Models"
   ]
  },
  {
   "cell_type": "markdown",
   "id": "5530f3bf-58f0-4104-9edc-1e39a601e036",
   "metadata": {},
   "source": [
    "### Introduction"
   ]
  },
  {
   "cell_type": "markdown",
   "id": "f19f6e9a-009f-446b-bb32-99da8bd4f3b1",
   "metadata": {},
   "source": [
    "Biochemical Systems Theory (BST) is a mathematical modeling framework for biochemical systems based on ordinary differential equations (ODEs), where biochemical processes are modeled using power-law expansions in the system’s variables. BST has been developed since the 1960s by [Michael Savageau](https://en.wikipedia.org/wiki/Michael_Antonio_Savageau), [Eberhard Voit](https://en.wikipedia.org/wiki/Eberhard_Voit), and others for the analysis of biochemical processes.\n",
    "\n",
    "One of the main tools of BST is the modeling of the concentration of metabolites in a metabolic network as a dynamic S-system. For example, suppose we want to model a metabolic network that consists of a species set $\\mathcal{M}$ and a reaction set $\\mathcal{R}$. Then, we can write a concentation balance equation around each member of the species set $\\mathcal{M}$ of the form: \n",
    "\n",
    "$$\\frac{dX_{i}}{dt} = \\sum_{r\\in\\mathcal{R}}\\sigma_{i,r}\\cdot\\theta_{r}\\prod_{m\\in\\mathcal{M}}X_{m}^{\\gamma_{r,m}}-\\mu{X}_{i}\\qquad\\forall{i}\\in\\mathcal{M}$$\n",
    "\n",
    "where $\\sigma_{i,r}$ denotes the stoichiometric coefficient species $i$ in reaction $r$, $X_{m}$ denotes the concentration of species $m$, and $\\gamma_{r,m}$ denotes the reaction order of species $m$ in reaction $r$, and $\\mu$ denotes the specific growth rate; the last term is dilution due to growth (accounts for dilution when concentrations are written in cell mass specific units). The dilution due to growth term is not present in a cell-free system (unless there is a significant volume change)."
   ]
  },
  {
   "cell_type": "markdown",
   "id": "2accd6aa-cd02-435e-b57d-2735c9fb6d6a",
   "metadata": {},
   "source": [
    "### Case study"
   ]
  },
  {
   "cell_type": "markdown",
   "id": "435cdc33-e9c0-4dfc-bb3b-5465c831f98a",
   "metadata": {},
   "source": [
    "<img src=\"./figs/Fig-Linear-Pathway-BST-Example.png\" style=\"margin:auto; width:50%\">"
   ]
  },
  {
   "cell_type": "markdown",
   "id": "630b96ef-b77b-4c2d-8386-509142afcb52",
   "metadata": {},
   "source": [
    "Let's build a small S-system model of a linear pathway with end-product feedback inhibition to understand better how these models work (and generally how kinetic simulations work). \n",
    "\n",
    "Consider the example pathway above operating in a cell-free system. A three-step pathway catalyzed by enzymes $E_{1}$, $E_{2}$ and $E_{3}$ converts metabolite $X_{1}$ to $X_{4}$. Metabolite $X_{1}$ is produced by some other process at a constant rate, and $X_{4}$ is consumed at some constant rate. Finally, metabolite $X_{4}$ inhibits the activity of enzyme $E_{1}$."
   ]
  },
  {
   "cell_type": "markdown",
   "id": "0d9131b9-e2b4-4001-b8fe-3eb9079018b5",
   "metadata": {},
   "source": [
    "#### Setup case study environment"
   ]
  },
  {
   "cell_type": "code",
   "execution_count": 1,
   "id": "9eeb6397-bb62-4e13-a78f-7ff42388ad0e",
   "metadata": {},
   "outputs": [
    {
     "name": "stderr",
     "output_type": "stream",
     "text": [
      "\u001b[32m\u001b[1m  Activating\u001b[22m\u001b[39m project at `~/Desktop/julia_work/BST-Model-Case-Study`\n",
      "\u001b[32m\u001b[1m  No Changes\u001b[22m\u001b[39m to `~/Desktop/julia_work/BST-Model-Case-Study/Project.toml`\n",
      "\u001b[32m\u001b[1m  No Changes\u001b[22m\u001b[39m to `~/Desktop/julia_work/BST-Model-Case-Study/Manifest.toml`\n"
     ]
    }
   ],
   "source": [
    "import Pkg; Pkg.activate(\".\"); Pkg.resolve(); Pkg.instantiate();"
   ]
  },
  {
   "cell_type": "code",
   "execution_count": 2,
   "id": "3859b47d-e99f-4dc7-bbd9-8d9238bebd5f",
   "metadata": {},
   "outputs": [],
   "source": [
    "using DifferentialEquations\n",
    "using Plots"
   ]
  },
  {
   "cell_type": "code",
   "execution_count": 3,
   "id": "be1edd96-1568-4ac7-9f58-8540f211508f",
   "metadata": {},
   "outputs": [],
   "source": [
    "include(\"Example-Code-Library.jl\");"
   ]
  },
  {
   "cell_type": "markdown",
   "id": "b7514e2b-3db5-40eb-ab74-351609cf8220",
   "metadata": {},
   "source": [
    "#### a) Build the model object from the model file\n",
    "The [BST model file](./models/Feedback.bst) holds information to build the model equations; however, it does not contain any information about parameter values. We build the model file using the `build` method:\n",
    "\n",
    "* The function `build(path::String) --> Dict{String,Any}` takes a string holding the `path` to the model file and returns a model `dictionary` holding the components of the model. "
   ]
  },
  {
   "cell_type": "code",
   "execution_count": 4,
   "id": "1ef0fecb-5bf9-4bbe-aa0d-e11766cb851b",
   "metadata": {},
   "outputs": [],
   "source": [
    "model_dictionary = build(joinpath(_PATH_TO_MODELS, \"Feedback.bst\"));"
   ]
  },
  {
   "cell_type": "code",
   "execution_count": 9,
   "id": "1814b69c-0626-496b-a0c3-4d6054a4e9ab",
   "metadata": {},
   "outputs": [
    {
     "data": {
      "text/plain": [
       "4-element Vector{String}:\n",
       " \"X1\"\n",
       " \"X2\"\n",
       " \"X3\"\n",
       " \"X4\""
      ]
     },
     "execution_count": 9,
     "metadata": {},
     "output_type": "execute_result"
    }
   ],
   "source": [
    "model_dictionary[\"list_of_dynamic_species\"]"
   ]
  },
  {
   "cell_type": "code",
   "execution_count": 6,
   "id": "d708f5b1-7dee-4ecf-b704-f08f4cfcb7a0",
   "metadata": {},
   "outputs": [
    {
     "data": {
      "text/plain": [
       "Dict{String, Any} with 9 entries:\n",
       "  \"S\"                        => [-1.0 0.0 0.0; 1.0 -1.0 0.0; 0.0 1.0 -1.0; 0.0 …\n",
       "  \"list_of_static_fators\"    => [\"E1\", \"E2\", \"E3\"]\n",
       "  \"list_of_dynamic_species\"  => [\"X1\", \"X2\", \"X3\", \"X4\"]\n",
       "  \"number_of_dynamic_states\" => 4\n",
       "  \"static_factors_array\"     => [0.0, 0.0, 0.0]\n",
       "  \"number_of_static_states\"  => 3\n",
       "  \"total_species_list\"       => [\"X1\", \"X2\", \"X3\", \"X4\", \"E1\", \"E2\", \"E3\"]\n",
       "  \"G\"                        => [1.0 0.0 0.0; 0.0 1.0 0.0; … ; 0.0 1.0 0.0; 0.0…\n",
       "  \"α\"                        => [1.0, 1.0, 1.0]"
      ]
     },
     "execution_count": 6,
     "metadata": {},
     "output_type": "execute_result"
    }
   ],
   "source": [
    "model_dictionary"
   ]
  },
  {
   "cell_type": "code",
   "execution_count": null,
   "id": "490c64ad-090a-4d31-bf29-95abed1a652d",
   "metadata": {},
   "outputs": [],
   "source": []
  }
 ],
 "metadata": {
  "kernelspec": {
   "display_name": "Julia 1.8.0",
   "language": "julia",
   "name": "julia-1.8"
  },
  "language_info": {
   "file_extension": ".jl",
   "mimetype": "application/julia",
   "name": "julia",
   "version": "1.8.2"
  }
 },
 "nbformat": 4,
 "nbformat_minor": 5
}
