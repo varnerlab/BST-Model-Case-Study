{
 "cells": [
  {
   "cell_type": "markdown",
   "id": "f06ddf39-3ee5-4b43-8614-ae0f106768d5",
   "metadata": {},
   "source": [
    "## Biochemical Systems Theory and S-System Models"
   ]
  },
  {
   "cell_type": "markdown",
   "id": "5530f3bf-58f0-4104-9edc-1e39a601e036",
   "metadata": {},
   "source": [
    "### Introduction"
   ]
  },
  {
   "cell_type": "markdown",
   "id": "f19f6e9a-009f-446b-bb32-99da8bd4f3b1",
   "metadata": {},
   "source": [
    "Biochemical Systems Theory (BST) is a mathematical modeling framework for biochemical systems based on ordinary differential equations (ODEs), where biochemical processes are modeled using power-law expansions in the system’s variables. BST has been developed since the 1960s by [Michael Savageau](https://en.wikipedia.org/wiki/Michael_Antonio_Savageau), [Eberhard Voit](https://en.wikipedia.org/wiki/Eberhard_Voit), and others for the analysis of biochemical processes.\n",
    "\n",
    "One of the main tools of BST is the modeling of the concentration of metabolites in a metabolic network as a dynamic S-system. For example, suppose we want to model a metabolic network that consists of a species set $\\mathcal{M}$ and a reaction set $\\mathcal{R}$. Then, we can write a concentation balance equation around each member of the species set $\\mathcal{M}$ of the form: \n",
    "\n",
    "$$\\frac{dX_{i}}{dt} = \\sum_{r\\in\\mathcal{R}}\\sigma_{i,r}\\cdot\\theta_{r}\\prod_{m\\in\\mathcal{M}}X_{m}^{\\gamma_{r,m}}-\\mu{X}_{i}\\qquad\\forall{i}\\in\\mathcal{M}$$\n",
    "\n",
    "where $\\sigma_{i,r}$ denotes the stoichiometric coefficient species $i$ in reaction $r$, $X_{m}$ denotes the concentration of species $m$, and $\\gamma_{r,m}$ denotes the reaction order of species $m$ in reaction $r$, and $\\mu$ denotes the specific growth rate; the last term is dilution due to growth (accounts for dilution when concentrations are written in cell mass specific units). The dilution due to growth term is not present in a cell-free system (unless there is a significant volume change)."
   ]
  },
  {
   "cell_type": "markdown",
   "id": "2accd6aa-cd02-435e-b57d-2735c9fb6d6a",
   "metadata": {},
   "source": [
    "### Case study"
   ]
  },
  {
   "cell_type": "markdown",
   "id": "435cdc33-e9c0-4dfc-bb3b-5465c831f98a",
   "metadata": {},
   "source": [
    "<img src=\"./figs/Fig-Linear-Pathway-BST-Example.png\" style=\"margin:auto; width:50%\">"
   ]
  },
  {
   "cell_type": "markdown",
   "id": "630b96ef-b77b-4c2d-8386-509142afcb52",
   "metadata": {},
   "source": [
    "Let's build a small S-system model of a linear pathway with end-product feedback inhibition to understand better how these models work (and generally how kinetic simulations work). \n",
    "\n",
    "Consider the example pathway above operating in a cell-free system. A three-step pathway catalyzed by enzymes $E_{1}$, $E_{2}$ and $E_{3}$ converts metabolite $X_{1}$ to $X_{4}$. Metabolite $X_{1}$ is produced by some other process at a constant rate, and $X_{4}$ is consumed at some constant rate. Finally, metabolite $X_{4}$ inhibits the activity of enzyme $E_{1}$."
   ]
  },
  {
   "cell_type": "markdown",
   "id": "0d9131b9-e2b4-4001-b8fe-3eb9079018b5",
   "metadata": {},
   "source": [
    "#### Setup case study environment"
   ]
  },
  {
   "cell_type": "code",
   "execution_count": 1,
   "id": "9eeb6397-bb62-4e13-a78f-7ff42388ad0e",
   "metadata": {},
   "outputs": [
    {
     "name": "stderr",
     "output_type": "stream",
     "text": [
      "\u001b[32m\u001b[1m  Activating\u001b[22m\u001b[39m project at `~/Desktop/julia_work/BST-Model-Case-Study`\n",
      "\u001b[32m\u001b[1m  No Changes\u001b[22m\u001b[39m to `~/Desktop/julia_work/BST-Model-Case-Study/Project.toml`\n",
      "\u001b[32m\u001b[1m  No Changes\u001b[22m\u001b[39m to `~/Desktop/julia_work/BST-Model-Case-Study/Manifest.toml`\n"
     ]
    }
   ],
   "source": [
    "import Pkg; Pkg.activate(\".\"); Pkg.resolve(); Pkg.instantiate();"
   ]
  },
  {
   "cell_type": "code",
   "execution_count": 2,
   "id": "3859b47d-e99f-4dc7-bbd9-8d9238bebd5f",
   "metadata": {},
   "outputs": [],
   "source": [
    "using DifferentialEquations\n",
    "using Plots"
   ]
  },
  {
   "cell_type": "code",
   "execution_count": 3,
   "id": "be1edd96-1568-4ac7-9f58-8540f211508f",
   "metadata": {},
   "outputs": [],
   "source": [
    "include(\"Example-Code-Library.jl\");"
   ]
  },
  {
   "cell_type": "markdown",
   "id": "b7514e2b-3db5-40eb-ab74-351609cf8220",
   "metadata": {},
   "source": [
    "#### a) Build the model object from the model file\n",
    "The [BST model file](./models/Feedback.bst) holds information to build the model equations; however, it does not contain any information about parameter values. We build the model file using the `build` method:\n",
    "\n",
    "* The function `build(path::String) --> Dict{String,Any}` takes a string holding the `path` to the model file and returns a model `dictionary` holding the components of the model. "
   ]
  },
  {
   "cell_type": "code",
   "execution_count": 4,
   "id": "1ef0fecb-5bf9-4bbe-aa0d-e11766cb851b",
   "metadata": {},
   "outputs": [
    {
     "name": "stdout",
     "output_type": "stream",
     "text": [
      "record_components = [\"r1\", \"X1 --> X2\"]\n",
      "record_components = [\"r2\", \"X2 --> X3\"]\n",
      "record_components = [\"r3\", \"X3 --> X4\"]\n"
     ]
    }
   ],
   "source": [
    "model_dictionary = build(joinpath(_PATH_TO_MODELS, \"Feedback.bst\"));"
   ]
  },
  {
   "cell_type": "code",
   "execution_count": 5,
   "id": "6161b3f7-5a4e-4e23-9754-d0307015a4fc",
   "metadata": {},
   "outputs": [
    {
     "data": {
      "text/plain": [
       "Dict{String, Any} with 9 entries:\n",
       "  \"S\"                        => [-1.0 0.0 0.0; 1.0 -1.0 0.0; 0.0 1.0 -1.0; 0.0 …\n",
       "  \"list_of_static_fators\"    => [\"E1\", \"E2\", \"E3\"]\n",
       "  \"list_of_dynamic_species\"  => [\"X1\", \"X2\", \"X3\", \"X4\"]\n",
       "  \"number_of_dynamic_states\" => 4\n",
       "  \"static_factors_array\"     => [0.0, 0.0, 0.0]\n",
       "  \"number_of_static_states\"  => 3\n",
       "  \"total_species_list\"       => [\"X1\", \"X2\", \"X3\", \"X4\", \"E1\", \"E2\", \"E3\"]\n",
       "  \"G\"                        => [1.0 0.0 0.0; 0.0 1.0 0.0; … ; 0.0 1.0 0.0; 0.0…\n",
       "  \"α\"                        => [1.0, 1.0, 1.0]"
      ]
     },
     "execution_count": 5,
     "metadata": {},
     "output_type": "execute_result"
    }
   ],
   "source": [
    "model_dictionary"
   ]
  },
  {
   "cell_type": "code",
   "execution_count": 6,
   "id": "1814b69c-0626-496b-a0c3-4d6054a4e9ab",
   "metadata": {},
   "outputs": [
    {
     "data": {
      "text/plain": [
       "4-element Vector{String}:\n",
       " \"X1\"\n",
       " \"X2\"\n",
       " \"X3\"\n",
       " \"X4\""
      ]
     },
     "execution_count": 6,
     "metadata": {},
     "output_type": "execute_result"
    }
   ],
   "source": [
    "model_dictionary[\"list_of_dynamic_species\"]"
   ]
  },
  {
   "cell_type": "code",
   "execution_count": 7,
   "id": "d708f5b1-7dee-4ecf-b704-f08f4cfcb7a0",
   "metadata": {},
   "outputs": [
    {
     "data": {
      "text/plain": [
       "7×3 Matrix{Float64}:\n",
       " 1.0  0.0  0.0\n",
       " 0.0  1.0  0.0\n",
       " 0.0  0.0  1.0\n",
       " 1.0  0.0  0.0\n",
       " 1.0  0.0  0.0\n",
       " 0.0  1.0  0.0\n",
       " 0.0  0.0  1.0"
      ]
     },
     "execution_count": 7,
     "metadata": {},
     "output_type": "execute_result"
    }
   ],
   "source": [
    "G = model_dictionary[\"G\"]"
   ]
  },
  {
   "cell_type": "code",
   "execution_count": 8,
   "id": "5efd299e-7d9a-432d-86d1-0b4d272aaa3d",
   "metadata": {},
   "outputs": [],
   "source": [
    "G[4,1] = -10.0;"
   ]
  },
  {
   "cell_type": "code",
   "execution_count": 9,
   "id": "9041e01c-6c65-4c43-988e-0969873e8e70",
   "metadata": {},
   "outputs": [],
   "source": [
    "icv = [10.0, 0.0, 0.0, 0.1];\n",
    "model_dictionary[\"initial_condition_vector\"] = icv;"
   ]
  },
  {
   "cell_type": "code",
   "execution_count": 10,
   "id": "8713ccd0-d94d-44bb-b45a-b26d685501d4",
   "metadata": {},
   "outputs": [
    {
     "data": {
      "text/plain": [
       "7×3 Matrix{Float64}:\n",
       "   1.0  0.0  0.0\n",
       "   0.0  1.0  0.0\n",
       "   0.0  0.0  1.0\n",
       " -10.0  0.0  0.0\n",
       "   1.0  0.0  0.0\n",
       "   0.0  1.0  0.0\n",
       "   0.0  0.0  1.0"
      ]
     },
     "execution_count": 10,
     "metadata": {},
     "output_type": "execute_result"
    }
   ],
   "source": [
    "model_dictionary[\"G\"]"
   ]
  },
  {
   "cell_type": "code",
   "execution_count": 11,
   "id": "54736c51-ed8b-4e6f-9906-139292b7d2d6",
   "metadata": {},
   "outputs": [
    {
     "data": {
      "text/plain": [
       "7-element Vector{String}:\n",
       " \"X1\"\n",
       " \"X2\"\n",
       " \"X3\"\n",
       " \"X4\"\n",
       " \"E1\"\n",
       " \"E2\"\n",
       " \"E3\""
      ]
     },
     "execution_count": 11,
     "metadata": {},
     "output_type": "execute_result"
    }
   ],
   "source": [
    "model_dictionary[\"total_species_list\"]"
   ]
  },
  {
   "cell_type": "code",
   "execution_count": 12,
   "id": "be07dab1-8ddb-4ef6-bd24-9ab6cc2e84bd",
   "metadata": {},
   "outputs": [
    {
     "data": {
      "text/plain": [
       "4×3 Matrix{Float64}:\n",
       " -1.0   0.0   0.0\n",
       "  1.0  -1.0   0.0\n",
       "  0.0   1.0  -1.0\n",
       "  0.0   0.0   1.0"
      ]
     },
     "execution_count": 12,
     "metadata": {},
     "output_type": "execute_result"
    }
   ],
   "source": [
    "model_dictionary[\"S\"]"
   ]
  },
  {
   "cell_type": "code",
   "execution_count": 13,
   "id": "af4fb9ed-34ed-438a-8be3-4926279dde6e",
   "metadata": {},
   "outputs": [
    {
     "data": {
      "text/plain": [
       "3-element Vector{Float64}:\n",
       " 1.0\n",
       " 1.0\n",
       " 1.0"
      ]
     },
     "execution_count": 13,
     "metadata": {},
     "output_type": "execute_result"
    }
   ],
   "source": [
    "model_dictionary[\"α\"]"
   ]
  },
  {
   "cell_type": "markdown",
   "id": "a09a03a4-8ac6-4990-b560-e3a4c1121e86",
   "metadata": {},
   "source": [
    "#### b) Set test values for the model parameters in the $G$-matrix and $\\alpha$-vector"
   ]
  },
  {
   "cell_type": "code",
   "execution_count": 14,
   "id": "d74da897-a14d-4b4f-935a-b2098ce6e9e8",
   "metadata": {},
   "outputs": [
    {
     "data": {
      "text/plain": [
       "([0.0, 0.01, 0.02, 0.03, 0.04, 0.05, 0.06, 0.07, 0.08, 0.09  …  19.91, 19.92, 19.93, 19.94, 19.95, 19.96, 19.97, 19.98, 19.99, 20.0], [[10.0, 0.0, 0.0, 0.1], [10.0, 0.0, 0.0, 0.1], [10.0, 0.0, 0.0, 0.1], [10.0, 0.0, 0.0, 0.1], [10.0, 0.0, 0.0, 0.1], [10.0, 0.0, 0.0, 0.1], [10.0, 0.0, 0.0, 0.1], [10.0, 0.0, 0.0, 0.1], [10.0, 0.0, 0.0, 0.1], [10.0, 0.0, 0.0, 0.1]  …  [10.0, 0.0, 0.0, 0.1], [10.0, 0.0, 0.0, 0.1], [10.0, 0.0, 0.0, 0.1], [10.0, 0.0, 0.0, 0.1], [10.0, 0.0, 0.0, 0.1], [10.0, 0.0, 0.0, 0.1], [10.0, 0.0, 0.0, 0.1], [10.0, 0.0, 0.0, 0.1], [10.0, 0.0, 0.0, 0.1], [10.0, 0.0, 0.0, 0.1]])"
      ]
     },
     "execution_count": 14,
     "metadata": {},
     "output_type": "execute_result"
    }
   ],
   "source": [
    "(T,X) = evaluate(model_dictionary)"
   ]
  },
  {
   "cell_type": "code",
   "execution_count": null,
   "id": "783f3c66-f6d1-4e1b-b0e1-f943d9133e66",
   "metadata": {},
   "outputs": [],
   "source": []
  }
 ],
 "metadata": {
  "kernelspec": {
   "display_name": "Julia 1.8.0",
   "language": "julia",
   "name": "julia-1.8"
  },
  "language_info": {
   "file_extension": ".jl",
   "mimetype": "application/julia",
   "name": "julia",
   "version": "1.8.2"
  }
 },
 "nbformat": 4,
 "nbformat_minor": 5
}
